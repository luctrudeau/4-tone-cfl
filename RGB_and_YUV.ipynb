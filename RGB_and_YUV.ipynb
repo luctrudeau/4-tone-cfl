{
 "cells": [
  {
   "cell_type": "markdown",
   "metadata": {},
   "source": [
    "# Prologue: RGB and YUV\n",
    "Utility functions to convert between RGB and YUV"
   ]
  },
  {
   "cell_type": "code",
   "execution_count": 1,
   "metadata": {
    "collapsed": true
   },
   "outputs": [],
   "source": [
    "import numpy as np\n",
    "\n",
    "# Got the conversion matrix from here\n",
    "# http://www.equasys.de/colorconversion.html\n",
    "def conv_ycbcr(im):\n",
    "    y = np.array([0.213, 0.715, 0.072])\n",
    "    u = np.array([-0.115, -0.385, 0.5])\n",
    "    v = np.array([0.5, -0.454, -0.046])\n",
    "    color_matrix = np.array([y, u, v])\n",
    "    yuv = im.dot(color_matrix.T)\n",
    "    yuv[:,:,[1,2]] += 128\n",
    "    return yuv\n",
    "\n",
    "# Got the conversion matrix from here\n",
    "# http://www.equasys.de/colorconversion.html\n",
    "def conv_rgb(im):\n",
    "    im[:,:,[1,2]] -= 128\n",
    "    \n",
    "    r = np.array([1, 0, 1.575])\n",
    "    g = np.array([1, -0.187, -0.468])\n",
    "    b = np.array([1, 1.856, 0])\n",
    "    color_matrix = np.array([r,g,b])\n",
    "    \n",
    "    rgb = im.dot(color_matrix.T)\n",
    "    rgb[rgb < 0] = 0\n",
    "    rgb[rgb > 255] = 255\n",
    "    rgb = np.uint8(rgb)\n",
    "    return rgb"
   ]
  },
  {
   "cell_type": "code",
   "execution_count": null,
   "metadata": {
    "collapsed": true
   },
   "outputs": [],
   "source": []
  }
 ],
 "metadata": {
  "kernelspec": {
   "display_name": "Python 3",
   "language": "python",
   "name": "python3"
  },
  "language_info": {
   "codemirror_mode": {
    "name": "ipython",
    "version": 3
   },
   "file_extension": ".py",
   "mimetype": "text/x-python",
   "name": "python",
   "nbconvert_exporter": "python",
   "pygments_lexer": "ipython3",
   "version": "3.5.2"
  }
 },
 "nbformat": 4,
 "nbformat_minor": 2
}

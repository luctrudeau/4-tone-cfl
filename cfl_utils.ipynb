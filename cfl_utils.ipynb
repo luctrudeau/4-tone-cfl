{
 "cells": [
  {
   "cell_type": "code",
   "execution_count": 5,
   "metadata": {
    "collapsed": true
   },
   "outputs": [],
   "source": [
    "import numpy as np\n",
    "\n",
    "def dc_pred(pix, x, y, block_size):\n",
    "    top = np.sum(pix[y-1:y, x:x+block_size]) if y > 1 else block_size * 128\n",
    "    left = np.sum(pix[y:y + block_size, x-1:x]) if x > 1 else block_size * 128\n",
    "    return (top + left + block_size) // (block_size * 2)"
   ]
  },
  {
   "cell_type": "code",
   "execution_count": 6,
   "metadata": {
    "collapsed": true
   },
   "outputs": [],
   "source": [
    "def error(im1, im2):\n",
    "    diff = im1 - im2\n",
    "    return np.round(np.sum(np.multiply(diff,diff)))"
   ]
  },
  {
   "cell_type": "code",
   "execution_count": 7,
   "metadata": {
    "collapsed": true
   },
   "outputs": [],
   "source": [
    "def scale(ac_con, alpha_pos, alpha_neg, block_size):\n",
    "    scaled = np.zeros((block_size, block_size))\n",
    "    mask = ac_con < 0\n",
    "    scaled[mask] = ac_con[mask] * alpha_neg \n",
    "    mask = ~mask\n",
    "    scaled[mask] = ac_con[mask] * alpha_pos\n",
    "    return scaled"
   ]
  },
  {
   "cell_type": "code",
   "execution_count": 10,
   "metadata": {
    "collapsed": true
   },
   "outputs": [],
   "source": [
    "def pick_alpha(ac_con, mags, block_size, dc_pred_u, dc_pred_v, block_u, block_v):\n",
    "    min_err_u = 10000000000\n",
    "    min_err_v = 10000000000\n",
    "    for alpha in mags:\n",
    "        scaled = ac_con * alpha\n",
    "        scaled_u = dc_pred_u + scaled\n",
    "        err = error(block_u, scaled_u)\n",
    "        if err < min_err_u:\n",
    "            min_err_u = err\n",
    "            best_a_u = alpha\n",
    "        scaled_v = dc_pred_v + scaled\n",
    "        err = error(block_v, scaled_v)\n",
    "        if err < min_err_v:\n",
    "            min_err_v = err    \n",
    "            best_a_v = alpha           \n",
    "    return best_a_u, best_a_v"
   ]
  },
  {
   "cell_type": "code",
   "execution_count": 8,
   "metadata": {
    "collapsed": true
   },
   "outputs": [],
   "source": [
    "def pick_alpha_pos_neg(ac_con, mags, block_size, dc_pred_u, dc_pred_v, block_u, block_v):\n",
    "    min_err_u = 10000000000\n",
    "    min_err_v = 10000000000\n",
    "    \n",
    "    for alpha_pos in mags:\n",
    "        for alpha_neg in mags:\n",
    "            scaled_u = scale(ac_con, alpha_pos, alpha_neg, block_size) + dc_pred_u\n",
    "            err = error(block_u, scaled_u)\n",
    "            if err < min_err_u:\n",
    "                min_err_u = err\n",
    "                best_a_pos_u = alpha_pos\n",
    "                best_a_neg_u = alpha_neg\n",
    "            \n",
    "            scaled_v = scale(ac_con, alpha_pos, alpha_neg, block_size) + dc_pred_v\n",
    "            err = error(block_v, scaled_v)\n",
    "            if err < min_err_v:\n",
    "                min_err_v = err\n",
    "                best_a_pos_v = alpha_pos\n",
    "                best_a_neg_v = alpha_neg\n",
    "    return best_a_pos_u, best_a_neg_u, best_a_pos_v, best_a_neg_v"
   ]
  },
  {
   "cell_type": "code",
   "execution_count": 11,
   "metadata": {
    "collapsed": true
   },
   "outputs": [],
   "source": [
    "def psnr(im1, im2):\n",
    "    h, w = im1.shape\n",
    "    sse = np.sum((im1 - im2)**2)\n",
    "    return 20 * np.log10(255) - 10 * np.log10(sse/(h*w))"
   ]
  },
  {
   "cell_type": "code",
   "execution_count": null,
   "metadata": {
    "collapsed": true
   },
   "outputs": [],
   "source": []
  }
 ],
 "metadata": {
  "kernelspec": {
   "display_name": "Python 3",
   "language": "python",
   "name": "python3"
  },
  "language_info": {
   "codemirror_mode": {
    "name": "ipython",
    "version": 3
   },
   "file_extension": ".py",
   "mimetype": "text/x-python",
   "name": "python",
   "nbconvert_exporter": "python",
   "pygments_lexer": "ipython3",
   "version": "3.5.2"
  }
 },
 "nbformat": 4,
 "nbformat_minor": 2
}
